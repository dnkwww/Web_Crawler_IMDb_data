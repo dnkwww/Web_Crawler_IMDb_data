{
 "cells": [
  {
   "cell_type": "code",
   "execution_count": 27,
   "id": "0f2a8a8d",
   "metadata": {},
   "outputs": [],
   "source": [
    "import requests\n",
    "from bs4 import BeautifulSoup as BF\n",
    "import csv"
   ]
  },
  {
   "cell_type": "code",
   "execution_count": 28,
   "id": "7746f3d3",
   "metadata": {},
   "outputs": [],
   "source": [
    "url = 'https://www.imdb.com/chart/top/?ref_=nv_mv_250'\n",
    "headers = {\n",
    "    'User-Agent': 'Mozilla/5.0 (Windows NT 10.0; Win64; x64) AppleWebKit/537.36 (KHTML, like Gecko) Chrome/100.0.0.0 Safari/537.36',\n",
    "    'Cookie': 'language=en_US',\n",
    "    'Accept-Language': 'en-US,en;q=0.5'\n",
    "}\n",
    "\n",
    "html = requests.get(url, headers=headers)\n",
    "\n",
    "sp = BF(html.text,'html.parser')"
   ]
  },
  {
   "cell_type": "markdown",
   "id": "e6f81233",
   "metadata": {},
   "source": [
    "Part A"
   ]
  },
  {
   "cell_type": "code",
   "execution_count": 32,
   "id": "4e7d4e86",
   "metadata": {},
   "outputs": [],
   "source": [
    "movie_item = sp.find_all(class_='ipc-metadata-list-summary-item__c')"
   ]
  },
  {
   "cell_type": "code",
   "execution_count": 36,
   "id": "c74d0093",
   "metadata": {},
   "outputs": [],
   "source": [
    "all_durations = []\n",
    "with open('../result/films250.csv', 'w', newline='', encoding='utf-8') as csvfile:\n",
    "    fieldnames = ['ranking', 'name', 'year', 'duration', 'rating', 'rate']\n",
    "    writer = csv.DictWriter(csvfile, fieldnames=fieldnames, quoting=csv.QUOTE_ALL)\n",
    "    writer.writeheader()\n",
    "    \n",
    "    for movie in movie_item:\n",
    "        # 處理rank跟name\n",
    "        name = movie.find(class_='ipc-title__text').text.strip()\n",
    "        parts = name.split('. ', 1)\n",
    "\n",
    "        if len(parts) == 2:\n",
    "            movie_rank = parts[0]\n",
    "            movie_name = parts[1]  # 獲取電影名部分\n",
    "        \n",
    "        # 處理year, duration, rating\n",
    "        metadata_element = movie.find(class_='sc-6fa21551-7 jLjTzn cli-title-metadata')\n",
    "        #print(metadata_items)\n",
    "        metadata_items = metadata_element.find_all(class_='sc-6fa21551-8 bnyjtW cli-title-metadata-item')\n",
    "        \n",
    "        year = None\n",
    "        duration = None\n",
    "        rating = None\n",
    "    \n",
    "        for item in metadata_items:\n",
    "            text = item.text.strip()\n",
    "            if 'h' in text or 'm' in text: # 如果有h或m就代表是duration\n",
    "                duration = text\n",
    "            elif text.isdigit(): # 如果只有數字就是年份\n",
    "                year = text\n",
    "            else:\n",
    "                rating = text\n",
    "\n",
    "        # 處理missing data\n",
    "        movie_year = year if year else \"missing data\"\n",
    "        movie_duration = duration if duration else \"missing data\"\n",
    "        movie_rating = rating if rating else \"missing data\"\n",
    "        # 把時長加進去陣列，part B計算用\n",
    "        all_durations.append(movie_duration)\n",
    "        \n",
    "        # 處理rate\n",
    "        rate_element = movie.find(class_='ipc-rating-star--base')\n",
    "        rate = rate_element.get_text(strip=True)\n",
    "        rate_split = rate.split('(')\n",
    "\n",
    "        movie_rate = rate_split[0]        \n",
    "        writer.writerow({'ranking': movie_rank, 'name': movie_name, 'year': movie_year, \n",
    "                         'duration': movie_duration, 'rating' : movie_rating, 'rate' : movie_rate})"
   ]
  },
  {
   "cell_type": "markdown",
   "id": "21877dfc",
   "metadata": {},
   "source": [
    "Part B"
   ]
  },
  {
   "cell_type": "code",
   "execution_count": 39,
   "id": "c0d55225",
   "metadata": {},
   "outputs": [
    {
     "name": "stdout",
     "output_type": "stream",
     "text": [
      "537 hours 59 minutes\n"
     ]
    }
   ],
   "source": [
    "total_hours = 0\n",
    "total_minutes = 0\n",
    "\n",
    "for durations in all_durations:\n",
    "    parts = durations.split()\n",
    "    for part in parts:\n",
    "        if part.endswith(\"h\"):\n",
    "            hours = int(part[:-1])  # 取得小時\n",
    "            total_hours += hours\n",
    "        elif part.endswith(\"m\"):\n",
    "            minutes = int(part[:-1])  # 取得分鐘\n",
    "            total_minutes += minutes\n",
    "\n",
    "# 把分鐘換成小時，有超過進位\n",
    "if total_minutes >= 60:\n",
    "    additional_hours = total_minutes // 60\n",
    "    total_hours += additional_hours\n",
    "    total_minutes %= 60\n",
    "\n",
    "\n",
    "count_duration = f\"{total_hours} hours {total_minutes} minutes\"\n",
    "print(count_duration)"
   ]
  },
  {
   "cell_type": "code",
   "execution_count": null,
   "id": "df1baf9b",
   "metadata": {},
   "outputs": [],
   "source": []
  },
  {
   "cell_type": "code",
   "execution_count": null,
   "id": "ab47f117",
   "metadata": {},
   "outputs": [],
   "source": []
  }
 ],
 "metadata": {
  "kernelspec": {
   "display_name": "Python 3 (ipykernel)",
   "language": "python",
   "name": "python3"
  },
  "language_info": {
   "codemirror_mode": {
    "name": "ipython",
    "version": 3
   },
   "file_extension": ".py",
   "mimetype": "text/x-python",
   "name": "python",
   "nbconvert_exporter": "python",
   "pygments_lexer": "ipython3",
   "version": "3.9.13"
  }
 },
 "nbformat": 4,
 "nbformat_minor": 5
}
